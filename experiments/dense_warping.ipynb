{
 "cells": [
  {
   "cell_type": "markdown",
   "metadata": {},
   "source": [
    "## Setup"
   ]
  },
  {
   "cell_type": "code",
   "execution_count": null,
   "metadata": {},
   "outputs": [],
   "source": [
    "from sd3helper import SD3\n",
    "import torch\n",
    "import numpy as np\n",
    "import matplotlib.pyplot as plt\n",
    "from PIL import Image, ImageOps\n",
    "from datasets import load_dataset\n",
    "import json"
   ]
  },
  {
   "cell_type": "code",
   "execution_count": null,
   "metadata": {},
   "outputs": [],
   "source": [
    "# load model\n",
    "sd = SD3()"
   ]
  },
  {
   "cell_type": "code",
   "execution_count": null,
   "metadata": {},
   "outputs": [],
   "source": [
    "# load data\n",
    "data = load_dataset('0jl/SPair-71k', 'data', split='train')"
   ]
  },
  {
   "cell_type": "code",
   "execution_count": null,
   "metadata": {},
   "outputs": [],
   "source": [
    "# Select Images\n",
    "# category = 'cat'\n",
    "category = 'dog'\n",
    "image_index = -1\n"
   ]
  },
  {
   "cell_type": "code",
   "execution_count": null,
   "metadata": {},
   "outputs": [],
   "source": [
    "# cell to find good candidates\n",
    "# execute this cell multiple times to find immages with good segmentations\n",
    "\n",
    "image_index += 1\n",
    "x = data[image_index]\n",
    "cat = json.loads(x['annotation'])['category']\n",
    "while cat != category:\n",
    "    image_index += 1\n",
    "    x = data[image_index]\n",
    "    cat = json.loads(x['annotation'])['category']\n",
    "\n",
    "# show image and segmentation\n",
    "plt.subplot(1, 2, 1)\n",
    "plt.imshow(x['img'])\n",
    "plt.axis('off')\n",
    "plt.subplot(1, 2, 2)\n",
    "plt.imshow(np.array(x['segmentation']) > 0, cmap='gray')\n",
    "plt.axis('off')\n",
    "plt.show()\n",
    "print('category:', cat)\n",
    "print('image index:', image_index)"
   ]
  },
  {
   "cell_type": "code",
   "execution_count": null,
   "metadata": {},
   "outputs": [],
   "source": [
    "image_indices_cat = [170, 177, 243, 257, 267, 283]\n",
    "image_indices_dog = [390, 51, 120, 131, 142, 353, 386]\n",
    "image_indices = image_indices_cat  # chage this\n"
   ]
  },
  {
   "cell_type": "code",
   "execution_count": null,
   "metadata": {},
   "outputs": [],
   "source": [
    "plt.imshow(data[image_indices[0]]['img'])\n",
    "data[image_indices[0]]['img'].size\n"
   ]
  },
  {
   "cell_type": "code",
   "execution_count": null,
   "metadata": {},
   "outputs": [],
   "source": [
    "center_cat = (280,240)\n",
    "center_dog = (280,200)\n",
    "center = center_cat  # chage this\n"
   ]
  },
  {
   "cell_type": "code",
   "execution_count": null,
   "metadata": {},
   "outputs": [],
   "source": [
    "data[image_indices[0]]['img'].size"
   ]
  },
  {
   "cell_type": "code",
   "execution_count": null,
   "metadata": {},
   "outputs": [],
   "source": [
    "# Color Transfer Plot\n",
    "def get_repr(img: \"Image.Image\"):\n",
    "    factor = 1024 / max(img.size)\n",
    "    img = img.resize((int(img.size[0]*factor), int(img.size[1]*factor)))\n",
    "    reprs = sd.get_repr(img, step=950, prompt='A photo of a cat')\n",
    "    return reprs.mean(dim=0)\n",
    "\n",
    "# transfer color to other images using cosine similarity\n",
    "def plot_color_transfer(images, segmentations):\n",
    "    # color source image\n",
    "    base_repr = get_repr(images[0]).to(dtype=torch.float32)\n",
    "    base_repr = base_repr / torch.norm(base_repr, dim=2, keepdim=True)  # normalize now to avoid overflow in cosine similarity\n",
    "    h_base, w_base = base_repr.shape[:2]  # get repr. height and width\n",
    "    scaled_mask = np.array(segmentations[0].resize((w_base, h_base), Image.BILINEAR)) > 0\n",
    "    # circular color map\n",
    "    color_matrix_circular = np.zeros((h_base, w_base, 3))\n",
    "    for i, j in np.argwhere(scaled_mask):\n",
    "        # calculate color based on angle to center\n",
    "        angle = np.arctan2(i - center[1]*h_base/images[0].size[1], j - center[0]*w_base/images[0].size[0])\n",
    "        color_matrix_circular[i, j] = np.array([.5+.5*np.sin(angle+0), .5+.5*np.sin(angle+2*np.pi/3), .5+.5*np.sin(angle+4*np.pi/3)])\n",
    "    # high frequency color map\n",
    "    color_matrix_highfreq = np.zeros((h_base, w_base, 3))\n",
    "    for i, j in np.argwhere(scaled_mask):\n",
    "        color_matrix_highfreq[i, j] = np.array([.5+.5*np.sin(2*np.pi*i/h_base*10), .5+.5*np.sin(2*np.pi*j/w_base*10), .5+.5*np.sin(2*np.pi*(i+j)/(h_base+w_base)*5)])\n",
    "\n",
    "    # plot base image\n",
    "    plt.figure(figsize=(4*len(images), 12))\n",
    "    plt.subplot(4, len(images), 1)\n",
    "    plt.imshow(images[0])\n",
    "    plt.axis('off')\n",
    "    plt.subplot(4, len(images), len(images)+1)\n",
    "    plt.imshow(color_matrix_circular)\n",
    "    plt.axis('off')\n",
    "    plt.subplot(4, len(images), 2*len(images)+1)\n",
    "    plt.imshow(color_matrix_highfreq)\n",
    "    plt.axis('off')\n",
    "    plt.subplot(4, len(images), 3*len(images)+1)\n",
    "    plt.imshow(images[0])\n",
    "    plt.axis('off')\n",
    "\n",
    "    # plot other images\n",
    "    for plt_index, (img, seg) in enumerate(zip(images[1:], segmentations[1:]), 2):\n",
    "        repr = get_repr(img).to(dtype=torch.float32)\n",
    "        repr = repr / torch.norm(repr, dim=2, keepdim=True)  # normalize now to avoid overflow in cosine similarity\n",
    "        h_curr, w_curr = repr.shape[:2]  # get repr. height and width\n",
    "        mask = np.array(seg.resize((w_curr, h_curr), Image.BILINEAR)) > 0\n",
    "        curr_color_matrix_circular = np.zeros((h_curr, w_curr, 3))\n",
    "        curr_color_matrix_highfreq = np.zeros((h_curr, w_curr, 3))\n",
    "        img_transferred = np.array(img)\n",
    "        # img_transferred = np.zeros_like(np.array(img))  # comment out for hiding the original image\n",
    "        for i, j in np.argwhere(mask):\n",
    "            # find most similar point in base_repr using cosine similarity\n",
    "            similarity_matrix = (repr[i, j, None, None, :] * base_repr).sum(dim=2)\n",
    "            # similarity_matrix *= torch.tensor(scaled_mask).to(similarity_matrix.device)  # comment out to use all pixels (ignore mask)\n",
    "            best = torch.argmax(similarity_matrix)\n",
    "            curr_color_matrix_circular[i,j] = color_matrix_circular.reshape((-1,3))[best]\n",
    "            curr_color_matrix_highfreq[i,j] = color_matrix_highfreq.reshape((-1,3))[best]\n",
    "            repr_pixel_size_x = images[0].size[0]/w_base\n",
    "            repr_pixel_size_y = images[0].size[1]/h_base\n",
    "            img_patch = np.array(images[0])[int(best//w_base*repr_pixel_size_y):int((best//w_base+1)*repr_pixel_size_y), int(best%w_base*repr_pixel_size_x):int((best%w_base+1)*repr_pixel_size_x)]\n",
    "            repr_pixel_size_x = img.size[0]/w_curr\n",
    "            repr_pixel_size_y = img.size[1]/h_curr\n",
    "            try:\n",
    "                img_transferred[int(i*repr_pixel_size_x):int((i+1)*repr_pixel_size_x), int(j*repr_pixel_size_y):int((j+1)*repr_pixel_size_y)] = np.array(Image.fromarray(img_patch).resize((int((j+1)*repr_pixel_size_y)-int(j*repr_pixel_size_y), int((i+1)*repr_pixel_size_x)-int(i*repr_pixel_size_x)), Image.BILINEAR))\n",
    "            except ValueError as e:\n",
    "                # print(plt_index, i, j, e)\n",
    "                pass\n",
    "        plt.subplot(4, len(images), plt_index)\n",
    "        plt.imshow(img)\n",
    "        plt.axis('off')\n",
    "        plt.subplot(4, len(images), len(images)+plt_index)\n",
    "        plt.imshow(curr_color_matrix_circular)\n",
    "        plt.axis('off')\n",
    "        plt.subplot(4, len(images), 2*len(images)+plt_index)\n",
    "        plt.imshow(curr_color_matrix_highfreq)\n",
    "        plt.axis('off')\n",
    "        plt.subplot(4, len(images), 3*len(images)+plt_index)\n",
    "        plt.imshow(img_transferred)\n",
    "        plt.axis('off')\n",
    "    plt.tight_layout()\n",
    "    plt.show()\n",
    "\n",
    "# plot_color_transfer([data[i]['img'] for i in image_indices], [data[i]['segmentation'] for i in image_indices])\n",
    "\n",
    "x = data[image_indices[0]]\n",
    "plot_color_transfer([x['img'], x['img'], ImageOps.mirror(x['img'])], [x['segmentation'], x['segmentation'], ImageOps.mirror(x['segmentation'])])"
   ]
  },
  {
   "cell_type": "code",
   "execution_count": null,
   "metadata": {},
   "outputs": [],
   "source": [
    "def get_repr(img: \"Image.Image\", pos = [0]):\n",
    "    factor = 1024 / max(img.size)\n",
    "    img = img.resize((int(img.size[0]*factor), int(img.size[1]*factor)))\n",
    "    return sd.get_repr(img, step=950, prompt='A photo of a cat')[pos].mean(dim=0).permute(2, 0, 1)\n",
    "\n",
    "# transfer color to other images using cosine similarity\n",
    "def plot_color_transfer_over_pos(images, segmentations, pos=[[x] for x in range(24)]):\n",
    "\n",
    "    # create figure for plotting\n",
    "    plt.figure(figsize=(3*len(image_indices), (1+len(pos))*2))\n",
    "\n",
    "    # plot raw images\n",
    "    for i in range(len(images)):\n",
    "        plt.subplot(len(pos)+1, len(image_indices), i+1)\n",
    "        plt.imshow(images[i])\n",
    "        plt.axis('off')\n",
    "        if i == 0:\n",
    "            plt.text(-0.1, 0.5, 'Original Image', va='center', ha='right', fontsize=12, transform=plt.gca().transAxes)\n",
    "\n",
    "    # plot other repr\n",
    "    for pos_index, p in enumerate(pos, 1):\n",
    "        # color source image\n",
    "        base_repr = get_repr(images[0], p).to(dtype=torch.float32)\n",
    "        base_repr = base_repr / torch.norm(base_repr, dim=0)\n",
    "        scaled_mask = np.array(segmentations[0].resize((base_repr.shape[2], base_repr.shape[1]), Image.BILINEAR)) > 0\n",
    "        color_matrix = np.zeros((base_repr.shape[1], base_repr.shape[2], 3))\n",
    "        for i, j in np.argwhere(scaled_mask):\n",
    "            # calculate color based on angle to center\n",
    "            angle = np.arctan2(i - center[1]*base_repr.shape[1]/images[0].size[1], j - center[0]*base_repr.shape[2]/images[0].size[0])\n",
    "            color_matrix[i, j] = np.array([.5+.5*np.sin(angle+0), .5+.5*np.sin(angle+2*np.pi/3), .5+.5*np.sin(angle+4*np.pi/3)])\n",
    "\n",
    "        # plot base repr\n",
    "        plt.subplot(len(pos)+1, len(image_indices), pos_index*len(image_indices)+1)\n",
    "        plt.imshow(color_matrix)\n",
    "        plt.axis('off')\n",
    "        plt.text(-0.1, 0.5, str(p), va='center', ha='right', fontsize=12, transform=plt.gca().transAxes)\n",
    "\n",
    "        for plt_index, (img, seg) in enumerate(zip(images[1:], segmentations[1:]), 2):\n",
    "            repr = get_repr(img, pos=p).to(dtype=torch.float32)\n",
    "            repr = repr / torch.norm(repr, dim=0)\n",
    "            mask = np.array(seg.resize((repr.shape[2], repr.shape[1]), Image.BILINEAR)) > 0\n",
    "            curr_color_matrix = np.zeros((repr.shape[1], repr.shape[2], 3))\n",
    "            for i, j in np.argwhere(mask):\n",
    "                # find most similar point in base_repr using cosine similarity\n",
    "                similarity_matrix = (repr[:, i, j, None, None] * base_repr).sum(dim=0)\n",
    "                similarity_matrix *= torch.tensor(scaled_mask).to(similarity_matrix.device)  # comment out to use all pixels (ignore mask)\n",
    "                best = torch.argmax(similarity_matrix)\n",
    "                curr_color_matrix[i,j] = color_matrix.reshape((-1,3))[best]\n",
    "            plt.subplot(len(pos)+1, len(image_indices), pos_index*len(image_indices)+plt_index)\n",
    "            plt.imshow(curr_color_matrix)\n",
    "            plt.axis('off')\n",
    "    plt.tight_layout()\n",
    "    plt.show()\n",
    "\n",
    "# plot_color_transfer_over_pos([data[i]['img'] for i in image_indices], [data[i]['segmentation'] for i in image_indices])\n",
    "\n",
    "# x = data[image_indices[0]]\n",
    "plot_color_transfer_over_pos([x['img'], ImageOps.mirror(x['img'])], [x['segmentation'], ImageOps.mirror(x['segmentation'])])"
   ]
  }
 ],
 "metadata": {
  "kernelspec": {
   "display_name": "py311",
   "language": "python",
   "name": "python3"
  },
  "language_info": {
   "codemirror_mode": {
    "name": "ipython",
    "version": 3
   },
   "file_extension": ".py",
   "mimetype": "text/x-python",
   "name": "python",
   "nbconvert_exporter": "python",
   "pygments_lexer": "ipython3",
   "version": "3.11.6"
  }
 },
 "nbformat": 4,
 "nbformat_minor": 2
}
